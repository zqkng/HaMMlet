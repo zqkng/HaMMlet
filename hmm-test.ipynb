{
 "cells": [
  {
   "cell_type": "code",
   "execution_count": null,
   "metadata": {
    "collapsed": true
   },
   "outputs": [],
   "source": [
    "import numpy as np\n",
    "import tokenizer\n",
    "from hmm import HiddenMarkovModel\n",
    "import hmmhelper as hh\n",
    "import poemgen"
   ]
  },
  {
   "cell_type": "code",
   "execution_count": null,
   "metadata": {
    "collapsed": true
   },
   "outputs": [],
   "source": [
    "## TEST tokenizer.py\n",
    "## (default sonnet text data: 'shakespeare.txt')\n",
    "## =============================================\n",
    "\n",
    "quatrains, couplets = tokenizer.sequence_quatrains_couplets(tokenizer.tokenize_lpunc)\n",
    "lines = tokenizer.sequence_each_line(tokenizer.tokenize_lpunc)\n",
    "\n",
    "assert((151 * 14) == len(lines)), \"ERROR: Incorrect sonnet lines count.\"\n",
    "\n",
    "quatrain_rhymes, couplet_rhymes = tokenizer.process_rhymes()\n",
    "word_count = tokenizer.process_word_frequency()"
   ]
  },
  {
   "cell_type": "code",
   "execution_count": null,
   "metadata": {
    "collapsed": true
   },
   "outputs": [],
   "source": [
    "## TEST hmm.py: train model\n",
    "## =========================\n",
    "\n",
    "# Specify number of states.\n",
    "test_hmm = HiddenMarkovModel(10)\n",
    "# Specify stopping conditions.\n",
    "A, B, PI, token_dict = test_hmm.train(couplets, epsilon=0.1, max_iter=20)"
   ]
  },
  {
   "cell_type": "code",
   "execution_count": null,
   "metadata": {
    "collapsed": true
   },
   "outputs": [],
   "source": [
    "## TEST hmmhelper.py: save/load models\n",
    "## ===================================\n",
    "\n",
    "hh.save_hmm(\"test-10-states\", A, B, PI, token_dict)\n",
    "A2, B2, PI2, token_dict2 = hh.load_hmm(\"test-10-states\")\n",
    "\n",
    "assert(A.all() == A2.all()), \"ERROR: `A` does not match.\"\n",
    "assert(B.all() == B2.all()), \"ERROR: `B` does not match.\"\n",
    "assert(PI.all() == PI2.all()), \"ERROR: `PI` does not match.\"\n",
    "assert(token_dict == token_dict2), \"ERROR: `token_dict` does not match.\""
   ]
  },
  {
   "cell_type": "code",
   "execution_count": null,
   "metadata": {
    "collapsed": true
   },
   "outputs": [],
   "source": [
    "## TEST tokenizer.py: rhymes processing\n",
    "## ====================================\n",
    "\n",
    "def generate_token_dict(data):\n",
    "    obs_id = 0\n",
    "    token_dict = {}\n",
    "\n",
    "    for sequence in data:\n",
    "        for token in sequence:\n",
    "            if token not in token_dict:\n",
    "                token_dict[token] = obs_id\n",
    "                obs_id += 1\n",
    "\n",
    "    return token_dict\n",
    "\n",
    "data = tokenizer.sequence_each_line(tokenizer.tokenize_lpunc)\n",
    "token_dict = generate_token_dict(data)\n",
    "\n",
    "q_rhymes, c_rhymes = tokenizer.process_rhymes()\n",
    "\n",
    "for r in q_rhymes:\n",
    "    try:\n",
    "        index0 = token_dict[r[0]]\n",
    "        index1 = token_dict[r[1]]\n",
    "    except KeyError:\n",
    "        print(\"Mising Key: {}\".format(r))\n",
    "        \n",
    "for c in c_rhymes:\n",
    "    try:\n",
    "        index0 = token_dict[c[0]]\n",
    "        index1 = token_dict[c[1]]\n",
    "    except KeyError:\n",
    "        print(\"Missing Key: {}\".format(c))"
   ]
  },
  {
   "cell_type": "code",
   "execution_count": null,
   "metadata": {
    "collapsed": true
   },
   "outputs": [],
   "source": [
    "## TEST poemgen.py: generate poems\n",
    "## ===============================\n",
    "\n",
    "# Generate non-rhyming sonnet (with iambic pentameter)\n",
    "poem = poemgen.generate_poem(\"test-10-states\")\n",
    "print(\"{:=^25}\".format(\"TEST SONNET\"))\n",
    "print(poem)\n",
    "\n",
    "# Generate rhyming sonnet (without meter)\n",
    "#poem_rhyme = poemgen.generate_poem_rhyme(\"test-10-states-rhyme\")\n",
    "#print(\"{:=^25}\".format(\"TEST SONNET\"))\n",
    "#print(poem_rhyme)"
   ]
  }
 ],
 "metadata": {
  "kernelspec": {
   "display_name": "Python 3",
   "language": "python",
   "name": "python3"
  },
  "language_info": {
   "codemirror_mode": {
    "name": "ipython",
    "version": 3
   },
   "file_extension": ".py",
   "mimetype": "text/x-python",
   "name": "python",
   "nbconvert_exporter": "python",
   "pygments_lexer": "ipython3",
   "version": "3.5.1"
  }
 },
 "nbformat": 4,
 "nbformat_minor": 1
}
