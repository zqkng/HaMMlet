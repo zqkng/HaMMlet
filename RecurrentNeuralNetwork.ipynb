{
 "cells": [
  {
   "cell_type": "code",
   "execution_count": 1,
   "id": "2aadc801-01ff-473e-aa0f-b0dbe0282cf1",
   "metadata": {},
   "outputs": [
    {
     "name": "stderr",
     "output_type": "stream",
     "text": [
      "2024-02-11 15:58:54.855012: I tensorflow/core/platform/cpu_feature_guard.cc:182] This TensorFlow binary is optimized to use available CPU instructions in performance-critical operations.\n",
      "To enable the following instructions: AVX2 FMA, in other operations, rebuild TensorFlow with the appropriate compiler flags.\n"
     ]
    }
   ],
   "source": [
    "from matplotlib import pyplot\n",
    "#from keras.models import Sequential, load_model\n",
    "#from keras.layers import Dense, LSTM, Lambda, Dropout\n",
    "#from keras.utils import to_categorical\n",
    "\n",
    "import hammlet\n",
    "import rnn\n",
    "import tokenizer"
   ]
  },
  {
   "cell_type": "code",
   "execution_count": 2,
   "id": "fe76ce1e-05da-45eb-bf37-bf800ce47f08",
   "metadata": {},
   "outputs": [],
   "source": [
    "## tokenizer.py\n",
    "## (default sonnet text data: 'data/shakespeare.txt' and 'data/spenser.txt)\n",
    "## ========================================================================\n",
    "\n",
    "data = tokenizer.load_data()\n",
    "sonnets = tokenizer.sequence_full_sonnet(tokenizer.tokenize_lpunc, data)\n",
    "#print(sonnets)"
   ]
  },
  {
   "cell_type": "code",
   "execution_count": 3,
   "id": "51b27795-dac8-4f4c-9739-ab801f8fa853",
   "metadata": {
    "scrolled": true
   },
   "outputs": [
    {
     "data": {
      "image/png": "[encoded data removed]",
      "text/plain": [
       "<Figure size 640x480 with 1 Axes>"
      ]
     },
     "metadata": {},
     "output_type": "display_data"
    }
   ],
   "source": [
    "shakespeare_data = tokenizer.load_data(data_files=[\"data/shakespeare.txt\"])\n",
    "lines = tokenizer.sequence_each_line(tokenizer.tokenize_nopunc, shakespeare_data)\n",
    "\n",
    "char_len = [len(' '.join(l)) for l in lines]\n",
    "n, bins, _ = pyplot.hist(char_len, bins=[i - 0.5 for i in range(min(char_len), max(char_len) + 2)])\n",
    "pyplot.xlabel('Number of characters per line')\n",
    "pyplot.show()"
   ]
  },
  {
   "cell_type": "code",
   "execution_count": 4,
   "id": "b31de907-2449-4890-ae5b-2610cc5a39b5",
   "metadata": {},
   "outputs": [
    {
     "name": "stdout",
     "output_type": "stream",
     "text": [
      "Total Number of (40-char) Sequences: 137247\n",
      "[char2vec]:\n",
      "{' ': 0, '!': 1, '&': 2, \"'\": 3, '(': 4, ')': 5, ',': 6, '-': 7, '.': 8, ':': 9, ';': 10, '?': 11, 'a': 12, 'b': 13, 'c': 14, 'd': 15, 'e': 16, 'f': 17, 'g': 18, 'h': 19, 'i': 20, 'j': 21, 'k': 22, 'l': 23, 'm': 24, 'n': 25, 'o': 26, 'p': 27, 'q': 28, 'r': 29, 's': 30, 't': 31, 'u': 32, 'v': 33, 'w': 34, 'x': 35, 'y': 36, 'z': 37}\n"
     ]
    }
   ],
   "source": [
    "## rnn.py: pre-process and load RNN training sequences\n",
    "## ===================================================\n",
    "\n",
    "#sequences = rnn._process_sequences(sonnets)\n",
    "#char2vec = rnn._map_characters(sonnets)   \n",
    "#char_sequences = []\n",
    "#for seq in sequences:\n",
    "#    char_sequences.append([char2vec[c] for c in seq]) \n",
    "\n",
    "char_sequences, char2vec = rnn.load_rnn_data()\n",
    "print(f\"Total Number of (40-char) Sequences: {len(char_sequences)}\")\n",
    "print(f\"[char2vec]:\\n{char2vec}\")"
   ]
  },
  {
   "cell_type": "code",
   "execution_count": 5,
   "id": "17073415-8383-43a9-9dcc-37ced117db42",
   "metadata": {},
   "outputs": [
    {
     "name": "stdout",
     "output_type": "stream",
     "text": [
      "(137247, 40, 38)\n",
      "(137247, 38)\n",
      "Model: \"sequential_1\"\n",
      "_________________________________________________________________\n",
      " Layer (type)                Output Shape              Param #   \n",
      "=================================================================\n",
      " lstm_1 (LSTM)               (None, 40, 600)           1533600   \n",
      "                                                                 \n",
      " dropout_1 (Dropout)         (None, 40, 600)           0         \n",
      "                                                                 \n",
      " lstm_2 (LSTM)               (None, 40, 600)           2882400   \n",
      "                                                                 \n",
      " dropout_2 (Dropout)         (None, 40, 600)           0         \n",
      "                                                                 \n",
      " lstm_3 (LSTM)               (None, 600)               2882400   \n",
      "                                                                 \n",
      " dropout_3 (Dropout)         (None, 600)               0         \n",
      "                                                                 \n",
      " dense_1 (Dense)             (None, 38)                22838     \n",
      "                                                                 \n",
      "=================================================================\n",
      "Total params: 7321238 (27.93 MB)\n",
      "Trainable params: 7321238 (27.93 MB)\n",
      "Non-trainable params: 0 (0.00 Byte)\n",
      "_________________________________________________________________\n",
      "Model: \"sequential\"\n",
      "_________________________________________________________________\n",
      " Layer (type)                Output Shape              Param #   \n",
      "=================================================================\n",
      " lstm (LSTM)                 (None, 40, 600)           1533600   \n",
      "                                                                 \n",
      " lstm_1 (LSTM)               (None, 40, 600)           2882400   \n",
      "                                                                 \n",
      " lstm_2 (LSTM)               (None, 600)               2882400   \n",
      "                                                                 \n",
      " lambda (Lambda)             (None, 600)               0         \n",
      "                                                                 \n",
      " dense (Dense)               (None, 38)                22838     \n",
      "                                                                 \n",
      "=================================================================\n",
      "Total params: 7321238 (27.93 MB)\n",
      "Trainable params: 7321238 (27.93 MB)\n",
      "Non-trainable params: 0 (0.00 Byte)\n",
      "_________________________________________________________________\n"
     ]
    }
   ],
   "source": [
    "## rnn.py: train/load/save model\n",
    "## =============================\n",
    "\n",
    "X, Y = rnn.generate_training_data(char_sequences, char2vec)\n",
    "print(X.shape)\n",
    "print(Y.shape)\n",
    "\n",
    "# RNN Model: \n",
    "#   - 3 LSTM layers of 600 units (each with 20% dropout)\n",
    "#   - 1 Dense layer with `softmax` activation\n",
    "#model = Sequential([\n",
    "#    LSTM(600, input_shape(X.shape[1], X.shape[2]), return_sequences=True),\n",
    "#    Dropout(0.2),\n",
    "#    LSTM(600, return_sequences=True),\n",
    "#    Dropout(0.2),\n",
    "#    LSTM(600),\n",
    "#    Dropout(0.2)\n",
    "#    Dense(len(char2vec), activation='softmax')\n",
    "#])\n",
    "#model.compile(loss='categorical_crossentropy', optimizer='adam', metrics=['accuracy'])\n",
    "#model.fit(X, Y, batch_size=128, epochs=40)\n",
    "#model.summary()\n",
    "#model.save(\"LSTM-3L-600U-40E\")\n",
    "\n",
    "#model = rnn.train_rnn_model(X, Y, char2vec)\n",
    "model = rnn.load_rnn_model(\"LSTM-3L-600U-40E\")\n",
    "model.summary()\n",
    "\n",
    "temperature = 0.5\n",
    "lambda_model = rnn.add_lambda_layer(model, char2vec, X, temperature)\n",
    "lambda_model.summary()"
   ]
  },
  {
   "cell_type": "code",
   "execution_count": 6,
   "id": "aa04471a-4bf8-40e6-af2c-a5349f0781f3",
   "metadata": {},
   "outputs": [
    {
     "name": "stdout",
     "output_type": "stream",
     "text": [
      "My mistress' eyes are nothing like the sun,\n",
      "Coral is far more red,\n",
      "Than her lips red, if snow be worthy of thy self thy beauty's field,\n",
      "The which three times thrice haply hath me,\n",
      "Suffine in them shall still will play the tyrant,\n",
      "The which beholding me with melancholy.\n",
      "Until life's composition,\n",
      "And they that level at my self sweet self bring:\n",
      "And when i weal and love them soul the warling madst with thought of earthly things and seeks kind.\n",
      "Then if for ofe dispease,\n",
      "The which that touches me to more are reason up to death.\n",
      "More flowers i noted,\n",
      "Yet i not then say 'now i love you best,' when i all weary had the chase forsook,\n",
      "The worst was thinks the shame which i do most in her own presence decked,\n",
      "\n"
     ]
    }
   ],
   "source": [
    "## hammlet.py: generate sonnets\n",
    "## ============================\n",
    "seed = \"my mistress' eyes are nothing like the sun,\"\n",
    "\n",
    "sonnet = hammlet._gen_rnn_poem(lambda_model, char2vec, X, seed)\n",
    "print(sonnet)\n",
    "\n",
    "#sonnet = hammlet.generate_rnn_sonnet(\"LSTM-3L-600U-40E\", seed=seed, temperature=1.5)\n",
    "#print(sonnet)"
   ]
  },
  {
   "cell_type": "code",
   "execution_count": null,
   "id": "f4e54291-3561-4006-92de-6af29c5f4767",
   "metadata": {},
   "outputs": [],
   "source": []
  }
 ],
 "metadata": {
  "kernelspec": {
   "display_name": "Python 3 (ipykernel)",
   "language": "python",
   "name": "python3"
  },
  "language_info": {
   "codemirror_mode": {
    "name": "ipython",
    "version": 3
   },
   "file_extension": ".py",
   "mimetype": "text/x-python",
   "name": "python",
   "nbconvert_exporter": "python",
   "pygments_lexer": "ipython3",
   "version": "3.11.7"
  }
 },
 "nbformat": 4,
 "nbformat_minor": 5
}
